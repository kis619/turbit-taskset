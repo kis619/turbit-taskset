{
 "cells": [
  {
   "cell_type": "markdown",
   "id": "2b0fe10f",
   "metadata": {},
   "source": [
    "# How do I work?\n",
    "\n",
    "This notebook contains my whole process and approach to the taskset given to me."
   ]
  },
  {
   "cell_type": "markdown",
   "id": "d5c332af",
   "metadata": {},
   "source": [
    "## 1. Mongodb\n",
    "\n",
    "Existing knowledge: it is a database"
   ]
  },
  {
   "cell_type": "markdown",
   "id": "1f949745",
   "metadata": {},
   "source": [
    "First I googled the most generic question and was led to https://www.mongodb.com/what-is-mongodb\n",
    "Before exploring further I refined my search to:\n",
    "* Google - mongodb in 5 minutes?\n",
    "    1. MongoDB in 5 Minutes with Eliot Horowitz:\n",
    "        https://www.youtube.com/watch?v=EE8ZTQxa0AM&ab_channel=MongoDB\n",
    "    2. MongoDB in 100 Seconds:\n",
    "        https://www.youtube.com/watch?v=-bt_y4Loofg&ab_channel=Fireship\n",
    "\n",
    "It reminded me of Firestore which I have worked a bit with\n",
    "* ChatGpt:\n",
    "    1. are mongodb and firebase the same type of db?\n",
    "    2. comparison between firestore and mongo db (structure, features, usability)\n",
    "    3. how are the two similar?"
   ]
  },
  {
   "cell_type": "markdown",
   "id": "9d1746c2",
   "metadata": {},
   "source": [
    "Retrun to  https://www.mongodb.com/what-is-mongodb and begin of exploration with the cloud version\n",
    "\n",
    "![Cloud vs Srver options to try MongoDB](./images/mongo-choice.png)\n"
   ]
  },
  {
   "cell_type": "markdown",
   "id": "21f26dce",
   "metadata": {},
   "source": [
    "ChatGpt: what is the difference between using MongoDB atlas and having a server"
   ]
  },
  {
   "cell_type": "markdown",
   "id": "5137956f",
   "metadata": {},
   "source": [
    "### Installation"
   ]
  },
  {
   "cell_type": "markdown",
   "id": "1a1dd7dc",
   "metadata": {},
   "source": [
    "Google - how to install mongodb on fedora 38:\n",
    "\n",
    "    * https://idroot.us/install-mongodb-fedora-38/\n",
    "    * https://developer.fedoraproject.org/tech/database/mongodb/about.html"
   ]
  },
  {
   "cell_type": "markdown",
   "id": "d9e4ecd3",
   "metadata": {},
   "source": [
    "### Introduction\n",
    "ChatGpt:\n",
    "i have now successfully installed mongodb on my machine\n",
    "i have never used it\n",
    "can you guide me through some foundational steps?\n",
    "something short and fun to teach me how to use mongodb\n",
    "\n",
    "Using the MongoDB shell\n",
    "\n",
    "* how to list all databases - show dbs\n",
    "\n",
    "* on a personal computer which is running fedora can i have different MongoDB servers? and should I\n",
    "\n",
    "* how to see what's inside a db? - use DBname to + show collections"
   ]
  },
  {
   "cell_type": "markdown",
   "id": "190d8ec4",
   "metadata": {},
   "source": [
    "## 2. Docker"
   ]
  },
  {
   "cell_type": "code",
   "execution_count": null,
   "id": "c1440c4f",
   "metadata": {},
   "outputs": [],
   "source": []
  }
 ],
 "metadata": {
  "kernelspec": {
   "display_name": "Python 3 (ipykernel)",
   "language": "python",
   "name": "python3"
  },
  "language_info": {
   "codemirror_mode": {
    "name": "ipython",
    "version": 3
   },
   "file_extension": ".py",
   "mimetype": "text/x-python",
   "name": "python",
   "nbconvert_exporter": "python",
   "pygments_lexer": "ipython3",
   "version": "3.11.3"
  }
 },
 "nbformat": 4,
 "nbformat_minor": 5
}
